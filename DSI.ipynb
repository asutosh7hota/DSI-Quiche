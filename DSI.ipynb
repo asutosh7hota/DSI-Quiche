{
 "cells": [
  {
   "cell_type": "markdown",
   "metadata": {},
   "source": [
    "**DATA STRUCTURES IMPLEMENTATION AND ALGORITHMS\n"
   ]
  },
  {
   "cell_type": "markdown",
   "metadata": {},
   "source": [
    "A stack (sometimes called a “push-down stack”) is an ordered collection of items where the addition of new items and the removal of existing items always takes place at the same end. This end is commonly referred to as the “top.” The end opposite the top is known as the “base.”\n",
    "\n",
    "The base of the stack is significant since items stored in the stack that are closer to the base represent those that have been in the stack the longest. The most recently added item is the one that is in position to be removed first. This ordering principle is sometimes called LIFO, last-in first-out. It provides an ordering based on length of time in the collection. Newer items are near the top, while older items are near the base."
   ]
  },
  {
   "cell_type": "code",
   "execution_count": 37,
   "metadata": {
    "collapsed": true
   },
   "outputs": [],
   "source": [
    "class Stack:\n",
    "    def __init__(self): #constructor initialised _init_  with a parameter\n",
    "         self.items = []\n",
    "\n",
    "    def isEmpty(self):\n",
    "         return self.items == []      #checks if the item is empty \n",
    "\n",
    "    def push(self, item):\n",
    "         self.items.append(item)     #new item is appended\n",
    "\n",
    "    def pop(self):\n",
    "         return self.items.pop()\n",
    "\n",
    "    def peek(self):\n",
    "         return self.items[len(self.items)-1]    #returns the top of the stack\n",
    "\n",
    "    def size(self):\n",
    "         return len(self.items)                #size of the stack , i.e, list self.items\n",
    "                \n",
    "    def show(self):                          # showing all the elements of the stack\n",
    "        while not self.items == []:\n",
    "            print(self.items.pop())\n",
    "                    \n"
   ]
  },
  {
   "cell_type": "code",
   "execution_count": 2,
   "metadata": {
    "collapsed": false
   },
   "outputs": [
    {
     "name": "stdout",
     "output_type": "stream",
     "text": [
      "False\n"
     ]
    }
   ],
   "source": [
    "#ANAGRAM CHECKER\n",
    "\n",
    "def anagramSolution4(s1,s2):\n",
    "    c1 = [0]*26\n",
    "    c2 = [0]*26\n",
    "\n",
    "    for i in range(len(s1)):\n",
    "        \n",
    "        pos = ord(s1[i])-ord('a')  # ord gives the ascii of the alphabets, subtracting the value of a gives the order of the alphabets\n",
    "        \n",
    "        c1[pos] = c1[pos] + 1\n",
    "\n",
    "    for i in range(len(s2)):\n",
    "        pos = ord(s2[i])-ord('a')\n",
    "        c2[pos] = c2[pos] + 1\n",
    "\n",
    "    j = 0\n",
    "    stillOK = True\n",
    "    while j<26 and stillOK:\n",
    "        if c1[j]==c2[j]:\n",
    "            j = j + 1\n",
    "        else:\n",
    "            stillOK = False #if some of the character goes out of limit then it gets false...hence no anagram possible\n",
    "\n",
    "    return stillOK\n",
    "\n",
    "print(anagramSolution4('apple','pleapa'))\n"
   ]
  },
  {
   "cell_type": "code",
   "execution_count": 38,
   "metadata": {
    "collapsed": false
   },
   "outputs": [
    {
     "name": "stdout",
     "output_type": "stream",
     "text": [
      "True\n",
      "False\n"
     ]
    }
   ],
   "source": [
    "#stack implementation: parantheses checker\n",
    "\n",
    "def parChecker(symbolString):\n",
    "    s = Stack() #declares a stack\n",
    "    balanced = True \n",
    "    index = 0\n",
    "    while index < len(symbolString) and balanced:     #loop runs till all sysmbols are scanned.\n",
    "        symbol = symbolString[index]\n",
    "        if symbol == \"(\":\n",
    "            s.push(symbol) #if '(' is encountered it is pushed on to the stack\n",
    "        else:\n",
    "            if s.isEmpty():\n",
    "                balanced = False #if its emtry then ofcs it cant check anything!\n",
    "            else:\n",
    "                s.pop()   #if ')' is encountered then pop from the stack\n",
    "\n",
    "        index = index + 1\n",
    "\n",
    "    if balanced and s.isEmpty():\n",
    "        return True\n",
    "    else:\n",
    "        return False\n",
    "\n",
    "print(parChecker('((()))'))\n",
    "print(parChecker('(()'))"
   ]
  },
  {
   "cell_type": "code",
   "execution_count": 4,
   "metadata": {
    "collapsed": false
   },
   "outputs": [
    {
     "name": "stdout",
     "output_type": "stream",
     "text": [
      "True\n",
      "False\n"
     ]
    }
   ],
   "source": [
    "#stack implementation : balanced parantheses checker\n",
    "\n",
    "def parChecker(symbolString):\n",
    "    s = Stack()\n",
    "    balanced = True\n",
    "    index = 0\n",
    "    while index < len(symbolString) and balanced:\n",
    "        symbol = symbolString[index]\n",
    "        if symbol in \"([{\":   #same thing happens as the above program but it now searches for these 3 separate parantheses\n",
    "            s.push(symbol) \n",
    "        else:\n",
    "            if s.isEmpty():\n",
    "                balanced = False\n",
    "            else:\n",
    "                top = s.pop()\n",
    "                if not matches(top,symbol):\n",
    "                       balanced = False\n",
    "        index = index + 1\n",
    "    if balanced and s.isEmpty():\n",
    "        return True\n",
    "    else:\n",
    "        return False\n",
    "\n",
    "def matches(open,close):\n",
    "    opens = \"([{\"\n",
    "    closers = \")]}\"  #if the same kind of parantheses is found !\n",
    "    return opens.index(open) == closers.index(close)\n",
    "\n",
    "\n",
    "print(parChecker('{{([][])}()}'))\n",
    "print(parChecker('[{()]'))\n"
   ]
  },
  {
   "cell_type": "code",
   "execution_count": 5,
   "metadata": {
    "collapsed": false
   },
   "outputs": [
    {
     "name": "stdout",
     "output_type": "stream",
     "text": [
      "101010\n"
     ]
    }
   ],
   "source": [
    "#Stack implementtion: Decimal to binary\n",
    "\n",
    "def divideBy2(decNumber):\n",
    "    remstack = Stack()\n",
    "\n",
    "    while decNumber > 0:\n",
    "        rem = decNumber % 2              #modular devision to get the quotient, thenn the quotients are pushed into the stack\n",
    "        remstack.push(rem)\n",
    "        decNumber = decNumber // 2      #number gets divisible by 2\n",
    "\n",
    "    binString = \"\"\n",
    "    while not remstack.isEmpty():\n",
    "        binString = binString + str(remstack.pop())\n",
    "\n",
    "    return binString\n",
    "\n",
    "print(divideBy2(42))"
   ]
  },
  {
   "cell_type": "code",
   "execution_count": 6,
   "metadata": {
    "collapsed": false
   },
   "outputs": [
    {
     "name": "stdout",
     "output_type": "stream",
     "text": [
      "[]\n",
      "<__main__.Stack object at 0x000001911C90EDA0>\n",
      "['A']\n",
      "<__main__.Stack object at 0x000001911C90EDA0>\n",
      "['A']\n",
      "<__main__.Stack object at 0x000001911C90EDA0>\n",
      "['A', 'B']\n",
      "<__main__.Stack object at 0x000001911C90EDA0>\n",
      "['A', 'B', '+']\n",
      "<__main__.Stack object at 0x000001911C90EDA0>\n",
      "['A', 'B', '+']\n",
      "<__main__.Stack object at 0x000001911C90EDA0>\n",
      "['A', 'B', '+', 'C']\n",
      "<__main__.Stack object at 0x000001911C90EDA0>\n",
      "['A', 'B', '+', 'C', '*']\n",
      "<__main__.Stack object at 0x000001911C90EDA0>\n",
      "['A', 'B', '+', 'C', '*']\n",
      "<__main__.Stack object at 0x000001911C90EDA0>\n",
      "['A', 'B', '+', 'C', '*', 'D']\n",
      "<__main__.Stack object at 0x000001911C90EDA0>\n",
      "['A', 'B', '+', 'C', '*', 'D']\n",
      "<__main__.Stack object at 0x000001911C90EDA0>\n",
      "['A', 'B', '+', 'C', '*', 'D', 'E']\n",
      "<__main__.Stack object at 0x000001911C90EDA0>\n",
      "['A', 'B', '+', 'C', '*', 'D', 'E', '-']\n",
      "<__main__.Stack object at 0x000001911C90EDA0>\n",
      "['A', 'B', '+', 'C', '*', 'D', 'E', '-']\n",
      "<__main__.Stack object at 0x000001911C90EDA0>\n",
      "['A', 'B', '+', 'C', '*', 'D', 'E', '-']\n",
      "<__main__.Stack object at 0x000001911C90EDA0>\n",
      "['A', 'B', '+', 'C', '*', 'D', 'E', '-', 'F']\n",
      "<__main__.Stack object at 0x000001911C90EDA0>\n",
      "['A', 'B', '+', 'C', '*', 'D', 'E', '-', 'F']\n",
      "<__main__.Stack object at 0x000001911C90EDA0>\n",
      "['A', 'B', '+', 'C', '*', 'D', 'E', '-', 'F', 'G']\n",
      "<__main__.Stack object at 0x000001911C90EDA0>\n",
      "['A', 'B', '+', 'C', '*', 'D', 'E', '-', 'F', 'G', '+']\n",
      "<__main__.Stack object at 0x000001911C90EDA0>\n",
      "A B + C * D E - F G + * -\n"
     ]
    }
   ],
   "source": [
    "#Stack-implementation : Infix to Postfix\n",
    "\n",
    "\n",
    "\n",
    "def infixToPostfix(infixexpr):\n",
    "    prec = {}         #define a dictionary and mention all the precedence of the various parantheses as well as the operators\n",
    "    prec[\"*\"] = 3\n",
    "    prec[\"/\"] = 3\n",
    "    prec[\"+\"] = 2\n",
    "    prec[\"-\"] = 2\n",
    "    prec[\"(\"] = 1\n",
    "    opStack = Stack() #define a stack\n",
    "    postfixList = []  #define a list\n",
    "    tokenList = infixexpr.split()  #split by space , bydefault\n",
    "\n",
    "    for token in tokenList:\n",
    "        if token in \"ABCDEFGHIJKLMNOPQRSTUVWXYZ\" or token in \"0123456789\": #the expression can be a ALPHABET or  a Number\n",
    "            postfixList.append(token)\n",
    "            print(postfixList)\n",
    "            print(opStack)\n",
    "        elif token == '(':\n",
    "            opStack.push(token)\n",
    "            print(postfixList)\n",
    "            print(opStack)\n",
    "        elif token == ')':\n",
    "            topToken = opStack.pop()\n",
    "            while topToken != '(':\n",
    "                postfixList.append(topToken)\n",
    "                topToken = opStack.pop()\n",
    "                print(postfixList)\n",
    "                print(opStack)\n",
    "        \n",
    "        else:\n",
    "            while (not opStack.isEmpty()) and (prec[opStack.peek()] >= prec[token]):\n",
    "                  postfixList.append(opStack.pop())\n",
    "                   \n",
    "            opStack.push(token)\n",
    "            print(postfixList)\n",
    "            print(opStack)\n",
    "\n",
    "    while not opStack.isEmpty():\n",
    "        postfixList.append(opStack.pop())\n",
    "    return \" \".join(postfixList)\n",
    "\n",
    "#print(infixToPostfix(\"A * B + C * D\"))\n",
    "print(infixToPostfix(\"( A + B ) * C - ( D - E ) * ( F + G )\"))\n"
   ]
  },
  {
   "cell_type": "markdown",
   "metadata": {},
   "source": [
    "# QUEUE\n",
    "\n",
    "A queue is an ordered collection of items where the addition of new items happens at one end, called the “rear,” and the removal of existing items occurs at the other end, commonly called the “front.” As an element enters the queue it starts at the rear and makes its way toward the front, waiting until that time when it is the next element to be removed.\n",
    "\n",
    "The most recently added item in the queue must wait at the end of the collection. The item that has been in the collection the longest is at the front. This ordering principle is sometimes called FIFO, first-in first-out. It is also known as “first-come first-served.”\n",
    "\n",
    " The scheduling of what gets done next is typically based on a queuing algorithm that tries to execute programs as quickly as possible and serve as many users as it can\n",
    " \n"
   ]
  },
  {
   "cell_type": "code",
   "execution_count": 36,
   "metadata": {
    "collapsed": false
   },
   "outputs": [
    {
     "name": "stdout",
     "output_type": "stream",
     "text": [
      "96\n",
      "69\n"
     ]
    }
   ],
   "source": [
    "class Queue:\n",
    "    def __init__(self):\n",
    "        self.items = []\n",
    "\n",
    "    def isEmpty(self):\n",
    "        return self.items == []\n",
    "\n",
    "    def enqueue(self, item):\n",
    "        self.items.insert(0,item)\n",
    "\n",
    "    def dequeue(self):\n",
    "        return self.items.pop()\n",
    "\n",
    "    def size(self):\n",
    "        return len(self.items)\n",
    "    \n",
    "    def show(self):                          # showing all the elements of the stack\n",
    "        while not self.items == []:\n",
    "            print(self.items.pop())\n",
    "   \n",
    "q=Queue()\n",
    "\n",
    "q.isEmpty()\n",
    "\n",
    "q.enqueue(4)\n",
    "\n",
    "q.isEmpty()\n",
    "q.enqueue(45)\n",
    "q.enqueue(96)\n",
    "q.enqueue(69)\n",
    "q.dequeue()\n",
    "q.dequeue()\n",
    "q.show()"
   ]
  },
  {
   "cell_type": "markdown",
   "metadata": {
    "collapsed": true
   },
   "source": [
    "# Simulation: Hot Potato\n"
   ]
  },
  {
   "cell_type": "markdown",
   "metadata": {},
   "source": [
    "This game is a modern-day equivalent of the famous Josephus problem. Based on a legend about the famous first-century historian Flavius Josephus, the story is told that in the Jewish revolt against Rome, Josephus and 39 of his comrades held out against the Romans in a cave. With defeat imminent, they decided that they would rather die than be slaves to the Romans. They arranged themselves in a circle. One man was designated as number one, and proceeding clockwise they killed every seventh man. Josephus, according to the legend, was among other things an accomplished mathematician. He instantly figured out where he ought to sit in order to be the last to go. When the time came, instead of killing himself, he joined the Roman side. You can find many different versions of this story. Some count every third man and some allow the last man to escape on a horse. In any case, the idea is the same."
   ]
  },
  {
   "cell_type": "code",
   "execution_count": 40,
   "metadata": {
    "collapsed": false
   },
   "outputs": [
    {
     "name": "stdout",
     "output_type": "stream",
     "text": [
      "Jane\n"
     ]
    }
   ],
   "source": [
    "\n",
    "\n",
    "def hotPotato(namelist, num):\n",
    "    simqueue = Queue()\n",
    "    for name in namelist:\n",
    "        simqueue.enqueue(name)\n",
    "\n",
    "    while simqueue.size() > 1: #the loop would run upto 1 last name remaining in the list\n",
    "        for i in range(num):\n",
    "            simqueue.enqueue(simqueue.dequeue()) #dequeue and then enqueue the same \n",
    "\n",
    "        simqueue.dequeue() #finally dequeue after after the num reaches \n",
    "\n",
    "    return simqueue.dequeue() #returns the final name remaining in the list\n",
    "\n",
    "print(hotPotato([\"Bill\",\"David\",\"Susan\",\"Jane\",\"Kent\",\"Brad\"],5))\n"
   ]
  },
  {
   "cell_type": "markdown",
   "metadata": {},
   "source": [
    "# Deque"
   ]
  },
  {
   "cell_type": "markdown",
   "metadata": {},
   "source": [
    "A deque, also known as a double-ended queue, is an ordered collection of items similar to the queue. It has two ends, a front and a rear, and the items remain positioned in the collection. What makes a deque different is the unrestrictive nature of adding and removing items. New items can be added at either the front or the rear. Likewise, existing items can be removed from either end. In a sense, this hybrid linear structure provides all the capabilities of stacks and queues in a single data structure. Figure 1 shows a deque of Python data objects.\n",
    "\n",
    "It is important to note that even though the deque can assume many of the characteristics of stacks and queues, it does not require the LIFO and FIFO orderings that are enforced by those data structures. It is up to you to make consistent use of the addition and removal operations."
   ]
  },
  {
   "cell_type": "code",
   "execution_count": 41,
   "metadata": {
    "collapsed": false
   },
   "outputs": [
    {
     "ename": "SyntaxError",
     "evalue": "invalid syntax (<ipython-input-41-00c6c38e831e>, line 1)",
     "output_type": "error",
     "traceback": [
      "\u001b[0;36m  File \u001b[0;32m\"<ipython-input-41-00c6c38e831e>\"\u001b[0;36m, line \u001b[0;32m1\u001b[0m\n\u001b[0;31m    Deque() creates a new deque that is empty. It needs no parameters and returns an empty deque.\u001b[0m\n\u001b[0m                  ^\u001b[0m\n\u001b[0;31mSyntaxError\u001b[0m\u001b[0;31m:\u001b[0m invalid syntax\n"
     ]
    }
   ],
   "source": [
    "Deque() creates a new deque that is empty. It needs no parameters and returns an empty deque.\n",
    "addFront(item) adds a new item to the front of the deque. It needs the item and returns nothing.\n",
    "addRear(item) adds a new item to the rear of the deque. It needs the item and returns nothing.\n",
    "removeFront() removes the front item from the deque. It needs no parameters and returns the item. The deque is modified.\n",
    "removeRear() removes the rear item from the deque. It needs no parameters and returns the item. The deque is modified.\n",
    "isEmpty() tests to see whether the deque is empty. It needs no parameters and returns a boolean value.\n",
    "size() returns the number of items in the deque. It needs no parameters and returns an integer."
   ]
  },
  {
   "cell_type": "code",
   "execution_count": 61,
   "metadata": {
    "collapsed": false
   },
   "outputs": [
    {
     "name": "stdout",
     "output_type": "stream",
     "text": [
      "5\n",
      "6\n"
     ]
    }
   ],
   "source": [
    "class Deque:\n",
    "    def __init__(self):\n",
    "        self.items = []\n",
    "\n",
    "    def isEmpty(self):\n",
    "        return self.items == []\n",
    "\n",
    "    def addFront(self, item):\n",
    "        return self.items.append(item)\n",
    "\n",
    "    def addRear(self, item):\n",
    "        self.items.insert(0,item)\n",
    "\n",
    "    def removeFront(self):\n",
    "        return self.items.pop()\n",
    "\n",
    "    def removeRear(self):\n",
    "        return self.items.pop(0)\n",
    "\n",
    "    def size(self):\n",
    "        return len(self.items)\n",
    "    \n",
    "    def sh(self):                          # showing all the elements of the stack\n",
    "        while not self.items == []:\n",
    "            print(self.items.pop())\n",
    "   \n",
    "            \n",
    "d= Deque()\n",
    "\n",
    "d.addFront(5)\n",
    "d.addRear(6)\n",
    "\n",
    "d.sh()\n",
    "    \n",
    "    \n",
    "   \n",
    "    \n",
    "    \n",
    "        \n",
    "    \n",
    "    "
   ]
  },
  {
   "cell_type": "code",
   "execution_count": 65,
   "metadata": {
    "collapsed": false
   },
   "outputs": [
    {
     "name": "stdout",
     "output_type": "stream",
     "text": [
      "True\n"
     ]
    }
   ],
   "source": [
    "#palindrome Checker\n",
    "class Deque:\n",
    "    def __init__(self):\n",
    "        self.items = []\n",
    "\n",
    "    def isEmpty(self):\n",
    "        return self.items == []\n",
    "\n",
    "    def addFront(self, item):\n",
    "        return self.items.append(item)\n",
    "\n",
    "    def addRear(self, item):\n",
    "        self.items.insert(0,item)\n",
    "\n",
    "    def removeFront(self):\n",
    "        return self.items.pop()\n",
    "\n",
    "    def removeRear(self):\n",
    "        return self.items.pop(0)\n",
    "\n",
    "    def size(self):\n",
    "        return len(self.items)\n",
    "    \n",
    "    def sh(self):                          # showing all the elements of the stack\n",
    "        while not self.items == []:\n",
    "            print(self.items.pop())\n",
    "            \n",
    "            \n",
    "            \n",
    "\n",
    "def palcheck(a):\n",
    "    s= Deque()\n",
    "    \n",
    "    for ch in a:\n",
    "        s.addRear(ch)\n",
    "        \n",
    "    stillEqual=True\n",
    "    \n",
    "    while s.size()>1 and stillEqual:\n",
    "        first=s.removeFront()\n",
    "        last=s.removeRear()\n",
    "        \n",
    "        if first!= last:\n",
    "            stillEqual=False\n",
    "            print(\"not equal\")\n",
    "        \n",
    "    return stillEqual\n",
    "\n",
    "print(palcheck(\"RadaR\"))\n",
    "    "
   ]
  },
  {
   "cell_type": "code",
   "execution_count": null,
   "metadata": {
    "collapsed": true
   },
   "outputs": [],
   "source": []
  }
 ],
 "metadata": {
  "anaconda-cloud": {},
  "kernelspec": {
   "display_name": "Python [default]",
   "language": "python",
   "name": "python3"
  },
  "language_info": {
   "codemirror_mode": {
    "name": "ipython",
    "version": 3
   },
   "file_extension": ".py",
   "mimetype": "text/x-python",
   "name": "python",
   "nbconvert_exporter": "python",
   "pygments_lexer": "ipython3",
   "version": "3.5.2"
  }
 },
 "nbformat": 4,
 "nbformat_minor": 1
}
